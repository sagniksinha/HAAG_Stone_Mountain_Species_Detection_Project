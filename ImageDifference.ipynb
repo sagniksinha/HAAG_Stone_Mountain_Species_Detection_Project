{
 "cells": [
  {
   "cell_type": "code",
   "execution_count": 8,
   "id": "9c16f426-5e8f-48d4-8364-11ce4ed991e3",
   "metadata": {},
   "outputs": [
    {
     "ename": "SystemExit",
     "evalue": "❌ Error: Image 1.png not found. Check the path or filename.",
     "output_type": "error",
     "traceback": [
      "An exception has occurred, use %tb to see the full traceback.\n",
      "\u001b[1;31mSystemExit\u001b[0m\u001b[1;31m:\u001b[0m ❌ Error: Image 1.png not found. Check the path or filename.\n"
     ]
    },
    {
     "name": "stderr",
     "output_type": "stream",
     "text": [
      "C:\\Users\\sagni\\anaconda3\\envs\\AgenticAI\\Lib\\site-packages\\IPython\\core\\interactiveshell.py:3585: UserWarning: To exit: use 'exit', 'quit', or Ctrl-D.\n",
      "  warn(\"To exit: use 'exit', 'quit', or Ctrl-D.\", stacklevel=1)\n"
     ]
    }
   ],
   "source": [
    "import cv2\n",
    "import numpy as np\n",
    "from matplotlib import pyplot as plt\n",
    "import sys\n",
    "\n",
    "# =========================================================\n",
    "# 1) Load the three images\n",
    "# =========================================================\n",
    "# Load images\n",
    "img1 = cv2.imread('1.png')\n",
    "img2 = cv2.imread('2.png')\n",
    "img3 = cv2.imread('3.png')\n",
    "\n",
    "# Verify they loaded correctly\n",
    "for i, img in enumerate([img1, img2, img3], start=1):\n",
    "    if img is None:\n",
    "        sys.exit(f\"❌ Error: Image {i}.png not found. Check the path or filename.\")\n",
    "# Resize to same size (important for comparison)\n",
    "h, w = img1.shape[:2]\n",
    "img2 = cv2.resize(img2, (w, h))\n",
    "img3 = cv2.resize(img3, (w, h))\n",
    "\n",
    "# =========================================================\n",
    "# 2) Compute absolute differences between images\n",
    "# =========================================================\n",
    "diff12 = cv2.absdiff(img1, img2)\n",
    "diff23 = cv2.absdiff(img2, img3)\n",
    "diff13 = cv2.absdiff(img1, img3)\n",
    "\n",
    "# Combine all differences\n",
    "combined_diff = cv2.bitwise_or(diff12, diff23)\n",
    "combined_diff = cv2.bitwise_or(combined_diff, diff13)\n",
    "\n",
    "# =========================================================\n",
    "# 3) Convert to grayscale and threshold to highlight changes\n",
    "# =========================================================\n",
    "gray = cv2.cvtColor(combined_diff, cv2.COLOR_BGR2GRAY)\n",
    "_, thresh = cv2.threshold(gray, 30, 255, cv2.THRESH_BINARY)\n",
    "\n",
    "# Optional: smoothen small noise\n",
    "thresh = cv2.medianBlur(thresh, 5)\n",
    "\n",
    "# =========================================================\n",
    "# 4) Create a visual overlay of differences on top of first image\n",
    "# =========================================================\n",
    "overlay = img1.copy()\n",
    "overlay[thresh > 0] = [0, 0, 255]   # mark differences in red\n",
    "\n",
    "alpha = 0.5\n",
    "highlighted = cv2.addWeighted(img1, alpha, overlay, 1 - alpha, 0)\n",
    "\n",
    "# =========================================================\n",
    "# 5) Display results\n",
    "# =========================================================\n",
    "plt.figure(figsize=(12,6))\n",
    "plt.subplot(1,2,1)\n",
    "plt.title('Original Image')\n",
    "plt.imshow(cv2.cvtColor(img1, cv2.COLOR_BGR2RGB))\n",
    "plt.axis('off')\n",
    "\n",
    "plt.subplot(1,2,2)\n",
    "plt.title('Highlighted Differences (Red areas)')\n",
    "plt.imshow(cv2.cvtColor(highlighted, cv2.COLOR_BGR2RGB))\n",
    "plt.axis('off')\n",
    "\n",
    "plt.tight_layout()\n",
    "plt.show()\n"
   ]
  }
 ],
 "metadata": {
  "kernelspec": {
   "display_name": "Python 3 (ipykernel)",
   "language": "python",
   "name": "python3"
  },
  "language_info": {
   "codemirror_mode": {
    "name": "ipython",
    "version": 3
   },
   "file_extension": ".py",
   "mimetype": "text/x-python",
   "name": "python",
   "nbconvert_exporter": "python",
   "pygments_lexer": "ipython3",
   "version": "3.11.11"
  }
 },
 "nbformat": 4,
 "nbformat_minor": 5
}
