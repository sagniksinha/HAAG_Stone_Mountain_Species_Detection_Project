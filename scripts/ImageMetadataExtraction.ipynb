{
 "cells": [
  {
   "cell_type": "code",
   "execution_count": 3,
   "id": "f99f7696-8386-4091-8a94-d9e3f1f0e602",
   "metadata": {},
   "outputs": [
    {
     "name": "stdout",
     "output_type": "stream",
     "text": [
      "2022:07:29 07:44:08\n"
     ]
    }
   ],
   "source": [
    "from PIL import Image\n",
    "from PIL.ExifTags import TAGS\n",
    "\n",
    "def get_image_datetime(image_path):\n",
    "    img = Image.open(image_path)\n",
    "    exif_data = img._getexif()  # raw EXIF dict\n",
    "    if not exif_data:\n",
    "        return None\n",
    "\n",
    "    # Look for DateTimeOriginal or DateTime\n",
    "    datetime_original = None\n",
    "    for tag_id, value in exif_data.items():\n",
    "        tag = TAGS.get(tag_id, tag_id)\n",
    "        if tag in (\"DateTimeOriginal\", \"DateTime\"):\n",
    "            datetime_original = value\n",
    "            break\n",
    "\n",
    "    return datetime_original\n",
    "\n",
    "photo_path = \"IMG_0001.JPG\"\n",
    "print(get_image_datetime(photo_path))"
   ]
  }
 ],
 "metadata": {
  "kernelspec": {
   "display_name": "Python 3 (ipykernel)",
   "language": "python",
   "name": "python3"
  },
  "language_info": {
   "codemirror_mode": {
    "name": "ipython",
    "version": 3
   },
   "file_extension": ".py",
   "mimetype": "text/x-python",
   "name": "python",
   "nbconvert_exporter": "python",
   "pygments_lexer": "ipython3",
   "version": "3.11.11"
  }
 },
 "nbformat": 4,
 "nbformat_minor": 5
}
